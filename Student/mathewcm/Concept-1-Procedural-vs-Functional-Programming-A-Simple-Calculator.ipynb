{
 "cells": [
  {
   "cell_type": "markdown",
   "metadata": {},
   "source": [
    "## Pure Function\n"
   ]
  },
  {
   "cell_type": "code",
   "execution_count": null,
   "metadata": {},
   "outputs": [],
   "source": [
    "def m(n: int) -> int:\n",
    "    return 2**n-1\n",
    "\n",
    "## This result depends only on the parameter, n. \n",
    "## There are no changes to global variables and the function doesn't update any mutable data structures."
   ]
  },
  {
   "cell_type": "markdown",
   "metadata": {},
   "source": [
    "## A procedural approach!\n",
    "\n",
    "- Functions generally consist of multiple statements\n",
    "  - Assignments\n",
    "  - If-statements\n",
    "  - While loops\n",
    "  - Etc."
   ]
  },
  {
   "cell_type": "code",
   "execution_count": 1,
   "metadata": {},
   "outputs": [
    {
     "name": "stdout",
     "output_type": "stream",
     "text": [
      "Welcome to the barely functional calculator!\n",
      "Enter an integer: 10\n",
      "Enter an operator (+, -, *, or /): *\n",
      "Enter an integer: 30\n",
      "The result is: 300\n"
     ]
    }
   ],
   "source": [
    "OPERATORS = '+', '-', '*', '/'\n",
    "\n",
    "\n",
    "def p_main():\n",
    "    \n",
    "    \"\"\"The main flow.\"\"\"\n",
    "\n",
    "    print('Welcome to the barely functional calculator!')\n",
    "    number1 = p_get_number()\n",
    "    operator = p_get_operator()\n",
    "    number2 = p_get_number()\n",
    "    result = p_calculate(number1, operator, number2)\n",
    "    print('The result is: %s' % result)\n",
    "\n",
    "\n",
    "def p_get_number():\n",
    "    \n",
    "    \"\"\"Reads an integer from the standard input and returns it.\n",
    "    If a non-integer value is entered, a warning is printed,\n",
    "    and a new value is read.\"\"\"\n",
    "            \n",
    "    while True:\n",
    "        s = input('Enter an integer: ')\n",
    "        try:\n",
    "            return int(s)\n",
    "        except ValueError:\n",
    "            print('That is not an integer!')\n",
    "            \n",
    "\n",
    "def p_get_operator():\n",
    "    \n",
    "    \"\"\"Reads an operator from the standard input and returns it.\n",
    "    Valid operators are: +, -, *, and /. If an invalid operator\n",
    "    is entered, a warning is printed, and a new value is read.\"\"\"    \n",
    "    \n",
    "    while True:\n",
    "        s = input('Enter an operator (+, -, *, or /): ')\n",
    "        if s in OPERATORS:\n",
    "            return s\n",
    "        print('That is not an operator!')\n",
    "            \n",
    "            \n",
    "def p_calculate(number1, operator, number2):\n",
    "    \n",
    "    \"\"\"Performs a calculation with two numbers and an operator,\n",
    "    and returns the result.\"\"\"\n",
    "    \n",
    "    if operator == '+':\n",
    "        return number1 + number2\n",
    "    if operator == '-':\n",
    "        return number1 - number2\n",
    "    if operator == '*':\n",
    "        return number1 * number2\n",
    "    if operator == '/':\n",
    "        return number1 / number2\n",
    "    raise Exception('Invalid operator!')\n",
    "\n",
    "    \n",
    "p_main()\n"
   ]
  },
  {
   "cell_type": "markdown",
   "metadata": {},
   "source": [
    "## A functional approach!\n",
    "\n",
    "- Functions consist of only one expression\n",
    "- How can we validate input? (One of the many things we will learn later!)"
   ]
  },
  {
   "cell_type": "code",
   "execution_count": 1,
   "metadata": {},
   "outputs": [
    {
     "ename": "SyntaxError",
     "evalue": "invalid syntax (<ipython-input-1-e64a913a0397>, line 5)",
     "output_type": "error",
     "traceback": [
      "\u001b[1;36m  File \u001b[1;32m\"<ipython-input-1-e64a913a0397>\"\u001b[1;36m, line \u001b[1;32m5\u001b[0m\n\u001b[1;33m    return int input('Enter an interger:')\u001b[0m\n\u001b[1;37m                   ^\u001b[0m\n\u001b[1;31mSyntaxError\u001b[0m\u001b[1;31m:\u001b[0m invalid syntax\n"
     ]
    }
   ],
   "source": [
    "OPERATORS = '+', '-', '*', '/'\n",
    "\n",
    "\n",
    "def f_get_number():\n",
    "    return int input('Enter an interger:')\n",
    "\n",
    "\n",
    "def f_get_operator():\n",
    "    return int(input('Enter an operator +, -, *, /):'))\n",
    "\n",
    "\n",
    "def f_calculate(number1, number2, operator):\n",
    "    return number1+number2 if operator =='+'\\\n",
    "        else number1+number2 if operator =='*'\\\n",
    "        else number1+number2 if operator =='-'\\\n",
    "        else number1/number2\n",
    "        else None\n",
    "\n",
    "\n",
    "def f_main():\n",
    "    return f_calculate(\n",
    "    f_get_number(),\n",
    "    f_get_operator(),\n",
    "    f_get_number()\n",
    "    )\n",
    "\n",
    "print('The result is: %s' % f_main())\n",
    "\n"
   ]
  },
  {
   "cell_type": "code",
   "execution_count": 2,
   "metadata": {},
   "outputs": [
    {
     "ename": "SyntaxError",
     "evalue": "invalid syntax (<ipython-input-2-2a70960dce57>, line 5)",
     "output_type": "error",
     "traceback": [
      "\u001b[1;36m  File \u001b[1;32m\"<ipython-input-2-2a70960dce57>\"\u001b[1;36m, line \u001b[1;32m5\u001b[0m\n\u001b[1;33m    return int input('Enter an interger:')\u001b[0m\n\u001b[1;37m                   ^\u001b[0m\n\u001b[1;31mSyntaxError\u001b[0m\u001b[1;31m:\u001b[0m invalid syntax\n"
     ]
    }
   ],
   "source": [
    "OPERATORS = '+', '-', '*', '/'\n",
    "\n",
    "\n",
    "def f_get_number():\n",
    "    return int(input('Enter an interger:'))\n",
    "\n",
    "\n",
    "def f_get_operator():\n",
    "    return int(input('Enter an operator +, -, *, /):'))\n",
    "\n",
    "\n",
    "def f_calculate(number1, number2, operator):\n",
    "    return number1+number2 if operator =='+'\\\n",
    "        else number1+number2 if operator =='*'\\\n",
    "        else number1+number2 if operator =='-'\\\n",
    "        else number1/number2\n",
    "        else None\n",
    "\n",
    "\n",
    "def f_main():\n",
    "    return f_calculate(\n",
    "    f_get_number(),\n",
    "    f_get_operator(),\n",
    "    f_get_number()\n",
    "    )\n",
    "\n",
    "print('The result is: %s' % f_main())\n"
   ]
  },
  {
   "cell_type": "code",
   "execution_count": 3,
   "metadata": {},
   "outputs": [
    {
     "ename": "IndentationError",
     "evalue": "unexpected indent (<ipython-input-3-90c4fee4480e>, line 14)",
     "output_type": "error",
     "traceback": [
      "\u001b[1;36m  File \u001b[1;32m\"<ipython-input-3-90c4fee4480e>\"\u001b[1;36m, line \u001b[1;32m14\u001b[0m\n\u001b[1;33m    else None\u001b[0m\n\u001b[1;37m    ^\u001b[0m\n\u001b[1;31mIndentationError\u001b[0m\u001b[1;31m:\u001b[0m unexpected indent\n"
     ]
    }
   ],
   "source": [
    "OPERATORS = '+', '-', '*', '/'\n",
    "\n",
    "\n",
    "def f_get_number():\n",
    "    return int(input('Enter an interger:'))\n",
    "\n",
    "\n",
    "def f_get_operator():\n",
    "    return int(input('Enter an operator +, -, *, /):'))\n",
    "\n",
    "\n",
    "def f_calculate(number1, number2, operator):\n",
    "    return number1+number2 if operator =='+'\\\n",
    "        else number1+number2 if operator =='*'\\\n",
    "        else number1+number2 if operator =='-'\\\n",
    "        else number1/number2\n",
    "    else None\n",
    "\n",
    "\n",
    "def f_main():\n",
    "    return f_calculate(\n",
    "    f_get_number(),\n",
    "    f_get_operator(),\n",
    "    f_get_number()\n",
    "    )\n",
    "\n",
    "print('The result is: %s' % f_main())\n"
   ]
  },
  {
   "cell_type": "code",
   "execution_count": 4,
   "metadata": {},
   "outputs": [
    {
     "ename": "IndentationError",
     "evalue": "unexpected indent (<ipython-input-4-c0378b4dbd37>, line 11)",
     "output_type": "error",
     "traceback": [
      "\u001b[1;36m  File \u001b[1;32m\"<ipython-input-4-c0378b4dbd37>\"\u001b[1;36m, line \u001b[1;32m11\u001b[0m\n\u001b[1;33m    else None\u001b[0m\n\u001b[1;37m    ^\u001b[0m\n\u001b[1;31mIndentationError\u001b[0m\u001b[1;31m:\u001b[0m unexpected indent\n"
     ]
    }
   ],
   "source": [
    "def f_get_number():\n",
    "    return int(input('Enter an interger:'))\n",
    "\n",
    "\n",
    "def f_get_operator():\n",
    "    return int(input('Enter an operator +, -, *, /):'))\n",
    "\n",
    "\n",
    "def f_calculate(number1, number2, operator):\n",
    "    return number1+number2 if operator =='+'\\\n",
    "        else number1+number2 if operator =='*'\\\n",
    "        else number1+number2 if operator =='-'\\\n",
    "        else number1/number2\n",
    "        else None\n",
    "\n",
    "\n",
    "def f_main():\n",
    "    return f_calculate(\n",
    "    f_get_number(),\n",
    "    f_get_operator(),\n",
    "    f_get_number()\n",
    "    )\n",
    "\n",
    "print('The result is: %s' % f_main()"
   ]
  },
  {
   "cell_type": "code",
   "execution_count": 5,
   "metadata": {},
   "outputs": [
    {
     "ename": "SyntaxError",
     "evalue": "invalid syntax (<ipython-input-5-f9ee1fe2fffd>, line 11)",
     "output_type": "error",
     "traceback": [
      "\u001b[1;36m  File \u001b[1;32m\"<ipython-input-5-f9ee1fe2fffd>\"\u001b[1;36m, line \u001b[1;32m11\u001b[0m\n\u001b[1;33m    else None\u001b[0m\n\u001b[1;37m       ^\u001b[0m\n\u001b[1;31mSyntaxError\u001b[0m\u001b[1;31m:\u001b[0m invalid syntax\n"
     ]
    }
   ],
   "source": [
    "def f_get_number():\n",
    "    return int(input('Enter an interger:'))\n",
    "\n",
    "\n",
    "def f_get_operator():\n",
    "    return int(input('Enter an operator +, -, *, /):'))\n",
    "\n",
    "\n",
    "def f_calculate(number1, operator, number2):\n",
    "    return number1+number2 if operator =='+'\\\n",
    "    else number1+number2 if operator =='*'\\\n",
    "    else number1+number2 if operator =='-'\\\n",
    "    else number1/number2\n",
    "    else None\n",
    "\n",
    "\n",
    "def f_main():\n",
    "    return f_calculate(\n",
    "    f_get_number(),\n",
    "    f_get_operator(),\n",
    "    f_get_number()\n",
    "    )\n",
    "\n",
    "print('The result is: %s' % f_main()"
   ]
  },
  {
   "cell_type": "code",
   "execution_count": null,
   "metadata": {},
   "outputs": [],
   "source": []
  }
 ],
 "metadata": {
  "kernelspec": {
   "display_name": "Python 3",
   "language": "python",
   "name": "python3"
  },
  "language_info": {
   "codemirror_mode": {
    "name": "ipython",
    "version": 3
   },
   "file_extension": ".py",
   "mimetype": "text/x-python",
   "name": "python",
   "nbconvert_exporter": "python",
   "pygments_lexer": "ipython3",
   "version": "3.6.5"
  }
 },
 "nbformat": 4,
 "nbformat_minor": 2
}
