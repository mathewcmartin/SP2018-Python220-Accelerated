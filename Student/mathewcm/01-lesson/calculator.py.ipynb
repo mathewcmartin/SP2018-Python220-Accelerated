{
 "cells": [
  {
   "cell_type": "code",
   "execution_count": 1,
   "metadata": {},
   "outputs": [],
   "source": [
    "\n",
    "### OPERATORS = '+', '-', '*', '/'\n",
    "\n",
    "\n",
    "def p_main():\n",
    "   \n",
    "   \"\"\"The main flow.\"\"\"\n",
    "\n",
    "   print('Welcome to the barely functional calculator!')\n",
    "   number1 = p_get_number()\n",
    "   operator = p_get_operator()\n",
    "   number2 = p_get_number()\n",
    "   result = p_calculate(number1, operator, number2)\n",
    "   print('The result is: %s' % result)\n",
    "\n",
    "\n",
    "def p_get_number():\n",
    "   \n",
    "   \"\"\"Reads an integer from the standard input and returns it.\n",
    "   If a non-integer value is entered, a warning is printed,\n",
    "   and a new value is read.\"\"\"\n",
    "           \n",
    "   while True:\n",
    "       s = input('Enter an integer: ')\n",
    "       try:\n",
    "           return int(s)\n",
    "       except ValueError:\n",
    "           print('That is not an integer!')\n",
    "           \n",
    "\n",
    "def p_get_operator():\n",
    "   \n",
    "   \"\"\"Reads an operator from the standard input and returns it.\n",
    "   Valid operators are: +, -, *, and /. If an invalid operator\n",
    "   is entered, a warning is printed, and a new value is read.\"\"\"    \n",
    "   \n",
    "   while True:\n",
    "       s = input('Enter an operator (+, -, *, or /): ')\n",
    "       if s in OPERATORS:\n",
    "           return s\n",
    "       print('That is not an operator!')\n",
    "           \n",
    "           \n",
    "def p_calculate(number1, operator, number2):\n",
    "   \n",
    "   \"\"\"Performs a calculation with two numbers and an operator,\n",
    "   and returns the result.\"\"\"\n",
    "   \n",
    "   if operator == '+':\n",
    "       return number1 + number2\n",
    "   if operator == '-':\n",
    "       return number1 - number2\n",
    "   if operator == '*':\n",
    "       return number1 * number2\n",
    "   if operator == '/':\n",
    "       return number1 / number2\n",
    "   raise Exception('Invalid operator!')\n",
    "    \n",
    "p_main\n"
   ]
  },
  {
   "cell_type": "code",
   "execution_count": 3,
   "metadata": {},
   "outputs": [],
   "source": [
    "run calculator.py"
   ]
  },
  {
   "cell_type": "markdown",
   "metadata": {},
   "source": [
    "## This is my first python 220 in class activity"
   ]
  },
  {
   "cell_type": "code",
   "execution_count": 4,
   "metadata": {},
   "outputs": [
    {
     "data": {
      "text/plain": [
       "9"
      ]
     },
     "execution_count": 4,
     "metadata": {},
     "output_type": "execute_result"
    }
   ],
   "source": [
    "4+5"
   ]
  },
  {
   "cell_type": "code",
   "execution_count": 7,
   "metadata": {},
   "outputs": [
    {
     "data": {
      "text/plain": [
       "9"
      ]
     },
     "execution_count": 7,
     "metadata": {},
     "output_type": "execute_result"
    }
   ],
   "source": [
    "4+5"
   ]
  },
  {
   "cell_type": "code",
   "execution_count": null,
   "metadata": {},
   "outputs": [],
   "source": []
  }
 ],
 "metadata": {
  "kernelspec": {
   "display_name": "Python 3",
   "language": "python",
   "name": "python3"
  },
  "language_info": {
   "codemirror_mode": {
    "name": "ipython",
    "version": 3
   },
   "file_extension": ".py",
   "mimetype": "text/x-python",
   "name": "python",
   "nbconvert_exporter": "python",
   "pygments_lexer": "ipython3",
   "version": "3.6.5"
  }
 },
 "nbformat": 4,
 "nbformat_minor": 2
}
